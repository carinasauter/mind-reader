{
 "cells": [
  {
   "cell_type": "code",
   "execution_count": 1,
   "metadata": {
    "collapsed": false
   },
   "outputs": [
    {
     "name": "stderr",
     "output_type": "stream",
     "text": [
      "/Users/carinasauter/anaconda/lib/python3.5/site-packages/sklearn/cross_validation.py:44: DeprecationWarning: This module was deprecated in version 0.18 in favor of the model_selection module into which all the refactored classes and functions are moved. Also note that the interface of the new CV iterators are different from that of this module. This module will be removed in 0.20.\n",
      "  \"This module will be removed in 0.20.\", DeprecationWarning)\n",
      "/Users/carinasauter/anaconda/lib/python3.5/site-packages/sklearn/grid_search.py:43: DeprecationWarning: This module was deprecated in version 0.18 in favor of the model_selection module into which all the refactored classes and functions are moved. This module will be removed in 0.20.\n",
      "  DeprecationWarning)\n"
     ]
    }
   ],
   "source": [
    "# %pylab inline\n",
    "import json\n",
    "from xgboost.sklearn import XGBClassifier\n",
    "import xgboost as xgb\n",
    "import sklearn\n",
    "import pandas as pd\n",
    "from typing import Tuple\n",
    "from typing import List\n",
    "from matplotlib import pyplot as plt\n",
    "%matplotlib inline  \n",
    "import seaborn as sns   #probs need to pip install seaborn\n",
    "import xgboost\n",
    "import numpy as np\n",
    "import pickle\n",
    "import random\n",
    "from sklearn.model_selection import StratifiedShuffleSplit, KFold\n",
    "from sklearn.metrics import accuracy_score, log_loss\n",
    "from sklearn.neighbors import KNeighborsClassifier\n",
    "from sklearn.svm import SVC\n",
    "from sklearn.tree import DecisionTreeClassifier\n",
    "from sklearn.ensemble import RandomForestClassifier, AdaBoostClassifier, GradientBoostingClassifier, ExtraTreesClassifier\n",
    "from sklearn.naive_bayes import GaussianNB\n",
    "from sklearn.discriminant_analysis import LinearDiscriminantAnalysis, QuadraticDiscriminantAnalysis\n",
    "from sklearn.linear_model import LogisticRegression\n",
    "from sklearn import model_selection\n",
    "from sklearn.metrics import accuracy_score\n",
    "\n",
    "from numpy import loadtxt\n",
    "from xgboost import XGBClassifier\n",
    "from sklearn.model_selection import train_test_split\n",
    "from sklearn.metrics import accuracy_score, confusion_matrix\n",
    "# from sklearn.cross_validation import KFold\n",
    "\n",
    "#from sklearn import cross_validation, metrics   #Additional scklearn functions\n",
    "from sklearn.grid_search import GridSearchCV   #Perforing grid search\n",
    "from matplotlib.pylab import rcParams\n",
    "\n",
    "import plotly as py\n",
    "#py.init_notebook_mode(connected=True)\n",
    "import plotly.graph_objs as go\n",
    "import plotly.tools as tls"
   ]
  },
  {
   "cell_type": "code",
   "execution_count": 2,
   "metadata": {
    "collapsed": false
   },
   "outputs": [
    {
     "name": "stdout",
     "output_type": "stream",
     "text": [
      "90\n",
      "180\n"
     ]
    }
   ],
   "source": [
    "inputfile = 'convertedDataBlinking.csv'\n",
    "dataset = pd.read_csv(inputfile)\n",
    "# convert to arrays from strings\n",
    "\n",
    "#stratifying sample \n",
    "thought = dataset[dataset['labels'] == 1]\n",
    "print(len(thought))\n",
    "notthought = dataset[dataset['labels'] == 0]\n",
    "notthought.reset_index(drop=True)\n",
    "notthoughtsample = notthought.sample(len(thought), replace=False, weights=None)\n",
    "stratified_df = thought.append(notthoughtsample, ignore_index = True, verify_integrity=True)\n",
    "dataset = stratified_df\n",
    "\n",
    " # shuffling it\n",
    "dataset = dataset.sample(frac=1).reset_index(drop=True)\n",
    "\n",
    "dataset.waves = dataset.waves.map(json.loads)\n",
    "print(len(dataset))"
   ]
  },
  {
   "cell_type": "code",
   "execution_count": 3,
   "metadata": {
    "collapsed": true
   },
   "outputs": [],
   "source": [
    "inputtestfile = 'convertedDataBlinkingTest.csv'\n",
    "datasetTest = pd.read_csv(inputtestfile)\n",
    "\n",
    "#stratifying sampleTest \n",
    "thought = datasetTest[datasetTest['labels'] == 1]\n",
    "notthought = datasetTest[datasetTest['labels'] == 0]\n",
    "notthought.reset_index(drop=True)\n",
    "notthoughtsample = notthought.sample(len(thought), replace=False, weights=None)\n",
    "stratified_df = thought.append(notthoughtsample, ignore_index = True, verify_integrity=True)\n",
    "datasetTest = stratified_df\n",
    "\n",
    " # shuffling it\n",
    "datasetTest = datasetTest.sample(frac=1).reset_index(drop=True)\n",
    "\n",
    "\n",
    "datasetTest.waves = datasetTest.waves.map(json.loads)"
   ]
  },
  {
   "cell_type": "code",
   "execution_count": 4,
   "metadata": {
    "collapsed": false
   },
   "outputs": [
    {
     "name": "stdout",
     "output_type": "stream",
     "text": [
      "180\n",
      "180\n"
     ]
    }
   ],
   "source": [
    "print(len(dataset))\n",
    "print(len(datasetTest))"
   ]
  },
  {
   "cell_type": "code",
   "execution_count": 5,
   "metadata": {
    "collapsed": false
   },
   "outputs": [
    {
     "data": {
      "text/plain": [
       "array([-14976,   -225,   -218,   -204,   -201,   -196,   -194,   -193,\n",
       "         -182,   -181])"
      ]
     },
     "execution_count": 5,
     "metadata": {},
     "output_type": "execute_result"
    }
   ],
   "source": [
    "np.unique(dataset.waves[0])[:10] #for model maybe try to exclude outliers. "
   ]
  },
  {
   "cell_type": "code",
   "execution_count": 6,
   "metadata": {
    "collapsed": false
   },
   "outputs": [],
   "source": [
    "waves = dataset.waves.tolist()\n",
    "newList = []\n",
    "for entry in waves:\n",
    "    result = np.array(entry)\n",
    "    newList.append(result)"
   ]
  },
  {
   "cell_type": "code",
   "execution_count": 7,
   "metadata": {
    "collapsed": true
   },
   "outputs": [],
   "source": [
    "wavesTest = datasetTest.waves.tolist()\n",
    "newListTest = []\n",
    "for entry in wavesTest:\n",
    "    result = np.array(entry)\n",
    "    newListTest.append(result)"
   ]
  },
  {
   "cell_type": "code",
   "execution_count": 8,
   "metadata": {
    "collapsed": false
   },
   "outputs": [],
   "source": [
    "X_train = np.array(newList)\n",
    "Y_train = np.array(dataset['labels'])"
   ]
  },
  {
   "cell_type": "code",
   "execution_count": 9,
   "metadata": {
    "collapsed": true
   },
   "outputs": [],
   "source": [
    "X_test = np.array(newListTest)\n",
    "Y_test = np.array(datasetTest['labels'])"
   ]
  },
  {
   "cell_type": "code",
   "execution_count": 10,
   "metadata": {
    "collapsed": false
   },
   "outputs": [],
   "source": [
    "# np.unique(Y_train)"
   ]
  },
  {
   "cell_type": "code",
   "execution_count": 11,
   "metadata": {
    "collapsed": false
   },
   "outputs": [
    {
     "data": {
      "text/plain": [
       "((180, 512), (180,))"
      ]
     },
     "execution_count": 11,
     "metadata": {},
     "output_type": "execute_result"
    }
   ],
   "source": [
    "assert X_train.shape[0] == Y_train.shape[0]\n",
    "\n",
    "X_train.shape, Y_train.shape # just a check that everything has the right size"
   ]
  },
  {
   "cell_type": "code",
   "execution_count": 12,
   "metadata": {
    "collapsed": false
   },
   "outputs": [
    {
     "data": {
      "text/plain": [
       "((180, 512), (180,))"
      ]
     },
     "execution_count": 12,
     "metadata": {},
     "output_type": "execute_result"
    }
   ],
   "source": [
    "assert X_test.shape[0] == Y_test.shape[0]\n",
    "X_test.shape, Y_test.shape # just a check that everything has the right size"
   ]
  },
  {
   "cell_type": "code",
   "execution_count": 13,
   "metadata": {
    "collapsed": false
   },
   "outputs": [
    {
     "data": {
      "text/plain": [
       "array([[13104,  1381,  1321, ...,  -163,  -213,  -205],\n",
       "       [  112,    80,    38, ...,    40,    54,    64],\n",
       "       [14602,   -23,   -36, ...,    80,    96,   122],\n",
       "       ..., \n",
       "       [   17,    17,    17, ...,     8,    17,  2583],\n",
       "       [   32,    16,  2578, ...,    55,    59,    57],\n",
       "       [   99,    28,   -29, ...,  -233,  -225,     0]])"
      ]
     },
     "execution_count": 13,
     "metadata": {},
     "output_type": "execute_result"
    }
   ],
   "source": [
    "X_test"
   ]
  },
  {
   "cell_type": "code",
   "execution_count": 14,
   "metadata": {
    "collapsed": false
   },
   "outputs": [
    {
     "data": {
      "text/plain": [
       "array([[13104,  1381,  1321, ...,  -163,  -213,  -205],\n",
       "       [  112,    80,    38, ...,    40,    54,    64],\n",
       "       [14602,   -23,   -36, ...,    80,    96,   122],\n",
       "       ..., \n",
       "       [   17,    17,    17, ...,     8,    17,  2583],\n",
       "       [   32,    16,  2578, ...,    55,    59,    57],\n",
       "       [   99,    28,   -29, ...,  -233,  -225,     0]])"
      ]
     },
     "execution_count": 14,
     "metadata": {},
     "output_type": "execute_result"
    }
   ],
   "source": [
    "X_test"
   ]
  },
  {
   "cell_type": "code",
   "execution_count": 18,
   "metadata": {
    "collapsed": false
   },
   "outputs": [
    {
     "data": {
      "text/plain": [
       "0.75555555555555554"
      ]
     },
     "execution_count": 18,
     "metadata": {},
     "output_type": "execute_result"
    }
   ],
   "source": [
    "# fit model on training data\n",
    "model = XGBClassifier()\n",
    "model.fit(X_train, Y_train)\n",
    "model.score(X_test, Y_test)\n"
   ]
  },
  {
   "cell_type": "code",
   "execution_count": 19,
   "metadata": {
    "collapsed": true
   },
   "outputs": [],
   "source": [
    "classifiers = [\n",
    "    KNeighborsClassifier(3),\n",
    "    SVC(probability=True),\n",
    "    DecisionTreeClassifier(),\n",
    "    RandomForestClassifier(),\n",
    "\tAdaBoostClassifier(),\n",
    "    GradientBoostingClassifier(),\n",
    "    GaussianNB(),\n",
    "    LinearDiscriminantAnalysis(),\n",
    "    QuadraticDiscriminantAnalysis(),\n",
    "    LogisticRegression(),\n",
    "    XGBClassifier()]\n",
    "\n",
    "log_cols = [\"Classifier\", \"Accuracy\"]\n",
    "log \t = pd.DataFrame(columns=log_cols)\n",
    "\n",
    "acc_dict = {}"
   ]
  },
  {
   "cell_type": "code",
   "execution_count": 20,
   "metadata": {
    "collapsed": false
   },
   "outputs": [
    {
     "name": "stderr",
     "output_type": "stream",
     "text": [
      "/Users/carinasauter/anaconda/lib/python3.5/site-packages/sklearn/discriminant_analysis.py:387: UserWarning:\n",
      "\n",
      "Variables are collinear.\n",
      "\n",
      "/Users/carinasauter/anaconda/lib/python3.5/site-packages/sklearn/discriminant_analysis.py:695: UserWarning:\n",
      "\n",
      "Variables are collinear\n",
      "\n"
     ]
    },
    {
     "data": {
      "text/plain": [
       "<matplotlib.axes._subplots.AxesSubplot at 0x11834a0b8>"
      ]
     },
     "execution_count": 20,
     "metadata": {},
     "output_type": "execute_result"
    },
    {
     "data": {
      "image/png": "[encoded data removed]",
      "text/plain": [
       "<matplotlib.figure.Figure at 0x1183b8f98>"
      ]
     },
     "metadata": {},
     "output_type": "display_data"
    }
   ],
   "source": [
    "for clf in classifiers:\n",
    "    name = clf.__class__.__name__\n",
    "    clf.fit(X_train, Y_train)\n",
    "    train_predictions = clf.predict(X_test)\n",
    "    acc = accuracy_score(Y_test, train_predictions)\n",
    "    if name in acc_dict:\n",
    "        acc_dict[name] += acc\n",
    "    else:\n",
    "        acc_dict[name] = acc\n",
    "\n",
    "for clf in acc_dict:\n",
    "\tacc_dict[clf] = acc_dict[clf]\n",
    "\tlog_entry = pd.DataFrame([[clf, acc_dict[clf]]], columns=log_cols)\n",
    "\tlog = log.append(log_entry)\n",
    "\n",
    "plt.xlabel('Accuracy')\n",
    "plt.title('Classifier Accuracy')\n",
    "sns.set_color_codes(\"muted\")\n",
    "sns.barplot(x='Accuracy', y='Classifier', data=log, color=\"b\")"
   ]
  },
  {
   "cell_type": "code",
   "execution_count": 21,
   "metadata": {
    "collapsed": false
   },
   "outputs": [],
   "source": [
    "# rfc_classifier = RandomForestClassifier(random_state = 27)\n",
    "# rfc_classifier.fit(X_train, Y_train)\n",
    "# result = rfc_classifier.score(X_test, Y_test)\n",
    "# result"
   ]
  },
  {
   "cell_type": "code",
   "execution_count": 22,
   "metadata": {
    "collapsed": false
   },
   "outputs": [],
   "source": [
    "# model = GaussianNB()\n",
    "# model.fit(X_train, Y_train)\n",
    "# result = rfc_classifier.score(X_test, Y_test)\n",
    "# result"
   ]
  },
  {
   "cell_type": "code",
   "execution_count": 23,
   "metadata": {
    "collapsed": false
   },
   "outputs": [],
   "source": [
    "true_negatives, false_positives, false_negatives, true_positives = confusion_matrix(Y_test, model.predict(X_test)).ravel()"
   ]
  },
  {
   "cell_type": "code",
   "execution_count": 24,
   "metadata": {
    "collapsed": true
   },
   "outputs": [],
   "source": [
    "def plot_confusion_matrix(cm, classes,\n",
    "                          normalize=False,\n",
    "                          title='Confusion matrix',\n",
    "                          cmap=plt.cm.Blues):\n",
    "    \"\"\"\n",
    "    This function prints and plots the confusion matrix.\n",
    "    Normalization can be applied by setting `normalize=True`.\n",
    "    \"\"\"\n",
    "    if normalize:\n",
    "        cm = cm.astype('float') / cm.sum(axis=1)[:, np.newaxis]\n",
    "        print(\"Normalized confusion matrix\")\n",
    "    else:\n",
    "        print('Confusion matrix, without normalization')\n",
    "\n",
    "    print(cm)\n",
    "\n",
    "    plt.imshow(cm, interpolation='nearest', cmap=cmap)\n",
    "    plt.title(title)\n",
    "    plt.colorbar()\n",
    "    tick_marks = np.arange(len(classes))\n",
    "    plt.xticks(tick_marks, classes, rotation=45)\n",
    "    plt.yticks(tick_marks, classes)\n",
    "\n",
    "    fmt = '.2f' if normalize else 'd'\n",
    "    thresh = cm.max() / 2.\n",
    "    for i, j in itertools.product(range(cm.shape[0]), range(cm.shape[1])):\n",
    "        plt.text(j, i, format(cm[i, j], fmt),\n",
    "                 horizontalalignment=\"center\",\n",
    "                 color=\"white\" if cm[i, j] > thresh else \"black\")\n",
    "\n",
    "    plt.tight_layout()\n",
    "    plt.ylabel('True label')\n",
    "    plt.xlabel('Predicted label')"
   ]
  },
  {
   "cell_type": "code",
   "execution_count": 25,
   "metadata": {
    "collapsed": false
   },
   "outputs": [
    {
     "name": "stdout",
     "output_type": "stream",
     "text": [
      "Confusion matrix, without normalization\n",
      "[[77 13]\n",
      " [31 59]]\n"
     ]
    },
    {
     "data": {
      "image/png": "[encoded data removed]",
      "text/plain": [
       "<matplotlib.figure.Figure at 0x11fe97048>"
      ]
     },
     "metadata": {},
     "output_type": "display_data"
    }
   ],
   "source": [
    "cnf_matrix = confusion_matrix(Y_test, model.predict(X_test))\n",
    "np.set_printoptions(precision=2)\n",
    "import itertools\n",
    "\n",
    "# Plot non-normalized confusion matrix\n",
    "plt.figure()\n",
    "class_names = np.unique(Y_test)\n",
    "plot_confusion_matrix(cnf_matrix, classes=class_names,\n",
    "                      title='Confusion matrix House Thought')"
   ]
  },
  {
   "cell_type": "code",
   "execution_count": 294,
   "metadata": {
    "collapsed": true
   },
   "outputs": [],
   "source": [
    "def modelfit(alg, X_train, Y_train, useTrainCV=True, cv_folds=5, early_stopping_rounds=50):\n",
    "    \n",
    "    if useTrainCV:\n",
    "        xgb_param = alg.get_xgb_params()\n",
    "        xgtrain = xgb.DMatrix(X_train, label= Y_train)\n",
    "        cvresult = xgb.cv(xgb_param, xgtrain, num_boost_round=alg.get_params()['n_estimators'], nfold=cv_folds,\n",
    "            metrics='auc', early_stopping_rounds=early_stopping_rounds)\n",
    "        alg.set_params(n_estimators=cvresult.shape[0])\n",
    "    \n",
    "    #Fit the algorithm on the data\n",
    "    alg.fit(X_train, Y_train ,eval_metric='auc')\n",
    "        \n",
    "    #Predict training set:\n",
    "    dtrain_predictions = alg.predict(X_train)\n",
    "    dtrain_predprob = alg.predict_proba(X_train)[:,1]\n",
    "        \n",
    "    #Print model report:\n",
    "    print (\"\\nModel Report\")\n",
    "    print (\"Accuracy : \" + str(metrics.accuracy_score(Y_train, dtrain_predictions)))\n",
    "    print (\"AUC Score (Train): \" + str(metrics.roc_auc_score(Y_train, dtrain_predprob)))\n",
    "                    \n",
    "    feat_imp = pd.Series(alg.booster().get_fscore()).sort_values(ascending=False)\n",
    "    feat_imp.plot(kind='bar', title='Feature Importances')\n",
    "    plt.ylabel('Feature Importance Score')"
   ]
  },
  {
   "cell_type": "code",
   "execution_count": 295,
   "metadata": {
    "collapsed": false
   },
   "outputs": [],
   "source": [
    "rfc1 = RandomForestClassifier(\n",
    "    n_estimators=10, \n",
    "    criterion='gini', \n",
    "    max_depth=None, \n",
    "    min_samples_split=2, \n",
    "    min_samples_leaf=1, \n",
    "    min_weight_fraction_leaf=0.0, \n",
    "    max_features='auto', \n",
    "    max_leaf_nodes=None, \n",
    "    min_impurity_split=None, \n",
    "    bootstrap=True, \n",
    "    oob_score=False, \n",
    "    n_jobs=1, \n",
    "    random_state=27, \n",
    "    verbose=0, \n",
    "    warm_start=False, \n",
    "    class_weight=None)"
   ]
  },
  {
   "cell_type": "code",
   "execution_count": 298,
   "metadata": {
    "collapsed": false
   },
   "outputs": [
    {
     "data": {
      "text/plain": [
       "{'bootstrap': True,\n",
       " 'class_weight': None,\n",
       " 'criterion': 'gini',\n",
       " 'max_depth': None,\n",
       " 'max_features': 'auto',\n",
       " 'max_leaf_nodes': None,\n",
       " 'min_impurity_split': 1e-07,\n",
       " 'min_samples_leaf': 1,\n",
       " 'min_samples_split': 2,\n",
       " 'min_weight_fraction_leaf': 0.0,\n",
       " 'n_estimators': 10,\n",
       " 'n_jobs': 1,\n",
       " 'oob_score': False,\n",
       " 'random_state': None,\n",
       " 'verbose': 0,\n",
       " 'warm_start': False}"
      ]
     },
     "execution_count": 298,
     "metadata": {},
     "output_type": "execute_result"
    }
   ],
   "source": [
    "rfc_classifier.get_params()"
   ]
  },
  {
   "cell_type": "code",
   "execution_count": 200,
   "metadata": {
    "collapsed": false
   },
   "outputs": [],
   "source": [
    "param_test1 = {\n",
    "    'max_depth':[4,5,6,7,8,9],\n",
    "    'min_samples_leaf':[1,2,3,4,5,6,7],\n",
    "    'min_samples_split': [2,3],\n",
    "    'min_weight_fraction_leaf': [0.0,0.1,0.2,0.3],\n",
    "    'n_estimators':[8,10,12],\n",
    "    'criterion': ['gini', 'entropy'],\n",
    "    'random_state': [27],\n",
    "    'min_impurity_split'\n",
    "}\n",
    "gsearch1 = GridSearchCV(estimator = RandomForestClassifier(), param_grid = param_test1, scoring='roc_auc',n_jobs=4,iid=False, cv=5)\n",
    "gsearch1.fit(X_train,Y_train)\n",
    "gsearch1.grid_scores_, gsearch1.best_params_, gsearch1.best_score_"
   ]
  },
  {
   "cell_type": "code",
   "execution_count": 155,
   "metadata": {
    "collapsed": false
   },
   "outputs": [
    {
     "data": {
      "text/plain": [
       "([mean: 0.50000, std: 0.00000, params: {'min_impurity_split': 1, 'min_samples_leaf': 1},\n",
       "  mean: 0.50000, std: 0.00000, params: {'min_impurity_split': 1, 'min_samples_leaf': 3},\n",
       "  mean: 0.50000, std: 0.00000, params: {'min_impurity_split': 1, 'min_samples_leaf': 5},\n",
       "  mean: 0.50000, std: 0.00000, params: {'min_impurity_split': 1, 'min_samples_leaf': 7},\n",
       "  mean: 0.50000, std: 0.00000, params: {'min_impurity_split': 3, 'min_samples_leaf': 1},\n",
       "  mean: 0.50000, std: 0.00000, params: {'min_impurity_split': 3, 'min_samples_leaf': 3},\n",
       "  mean: 0.50000, std: 0.00000, params: {'min_impurity_split': 3, 'min_samples_leaf': 5},\n",
       "  mean: 0.50000, std: 0.00000, params: {'min_impurity_split': 3, 'min_samples_leaf': 7},\n",
       "  mean: 0.50000, std: 0.00000, params: {'min_impurity_split': 5, 'min_samples_leaf': 1},\n",
       "  mean: 0.50000, std: 0.00000, params: {'min_impurity_split': 5, 'min_samples_leaf': 3},\n",
       "  mean: 0.50000, std: 0.00000, params: {'min_impurity_split': 5, 'min_samples_leaf': 5},\n",
       "  mean: 0.50000, std: 0.00000, params: {'min_impurity_split': 5, 'min_samples_leaf': 7},\n",
       "  mean: 0.50000, std: 0.00000, params: {'min_impurity_split': 7, 'min_samples_leaf': 1},\n",
       "  mean: 0.50000, std: 0.00000, params: {'min_impurity_split': 7, 'min_samples_leaf': 3},\n",
       "  mean: 0.50000, std: 0.00000, params: {'min_impurity_split': 7, 'min_samples_leaf': 5},\n",
       "  mean: 0.50000, std: 0.00000, params: {'min_impurity_split': 7, 'min_samples_leaf': 7}],\n",
       " {'min_impurity_split': 1, 'min_samples_leaf': 1},\n",
       " 0.5)"
      ]
     },
     "execution_count": 155,
     "metadata": {},
     "output_type": "execute_result"
    }
   ],
   "source": [
    "param_test2 = {\n",
    " 'min_impurity_split':[1,3,5,7],\n",
    " 'min_samples_leaf':[1,3,5,7]\n",
    "}\n",
    "gsearch1 = GridSearchCV(estimator = RandomForestClassifier(), param_grid = param_test2, scoring='roc_auc',n_jobs=4,iid=False, cv=5)\n",
    "gsearch1.fit(X_train,Y_train)\n",
    "gsearch1.grid_scores_, gsearch1.best_params_, gsearch1.best_score_"
   ]
  },
  {
   "cell_type": "code",
   "execution_count": 159,
   "metadata": {
    "collapsed": false
   },
   "outputs": [
    {
     "data": {
      "text/plain": [
       "([mean: 0.51190, std: 0.04188, params: {'n_estimators': 7, 'min_weight_fraction_leaf': 0},\n",
       "  mean: 0.54520, std: 0.02978, params: {'n_estimators': 8, 'min_weight_fraction_leaf': 0},\n",
       "  mean: 0.54067, std: 0.06182, params: {'n_estimators': 9, 'min_weight_fraction_leaf': 0},\n",
       "  mean: 0.51667, std: 0.04525, params: {'n_estimators': 7, 'min_weight_fraction_leaf': 0.1},\n",
       "  mean: 0.52819, std: 0.04267, params: {'n_estimators': 8, 'min_weight_fraction_leaf': 0.1},\n",
       "  mean: 0.54438, std: 0.04867, params: {'n_estimators': 9, 'min_weight_fraction_leaf': 0.1},\n",
       "  mean: 0.52339, std: 0.06319, params: {'n_estimators': 7, 'min_weight_fraction_leaf': 0.2},\n",
       "  mean: 0.49914, std: 0.03948, params: {'n_estimators': 8, 'min_weight_fraction_leaf': 0.2},\n",
       "  mean: 0.53567, std: 0.03490, params: {'n_estimators': 9, 'min_weight_fraction_leaf': 0.2}],\n",
       " {'min_weight_fraction_leaf': 0, 'n_estimators': 8},\n",
       " 0.54519890260631)"
      ]
     },
     "execution_count": 159,
     "metadata": {},
     "output_type": "execute_result"
    }
   ],
   "source": [
    "param_test3 = {\n",
    "    'min_weight_fraction_leaf':[0,0.1,0.2],\n",
    "    'n_estimators':[7,8,9],\n",
    "    \n",
    "}\n",
    "\n",
    "gsearch3 = GridSearchCV(estimator = RandomForestClassifier(), param_grid = param_test3, scoring='roc_auc',n_jobs=4,iid=False, cv=5)\n",
    "gsearch3.fit(X_train,Y_train)\n",
    "gsearch3.grid_scores_, gsearch3.best_params_, gsearch3.best_score_"
   ]
  },
  {
   "cell_type": "code",
   "execution_count": 303,
   "metadata": {
    "collapsed": true
   },
   "outputs": [],
   "source": [
    "rfc2 = RandomForestClassifier(\n",
    "    n_estimators=8, \n",
    "    criterion='gini', \n",
    "    max_depth=4, \n",
    "    min_samples_split=2, \n",
    "    min_samples_leaf=4, \n",
    "    min_weight_fraction_leaf=0.0, \n",
    "    max_features='auto', \n",
    "    max_leaf_nodes=None, \n",
    "    min_impurity_split=1e-07, \n",
    "    bootstrap=True, \n",
    "    oob_score=False, \n",
    "    n_jobs=1, \n",
    "    random_state=27, \n",
    "    verbose=0, \n",
    "    warm_start=False, \n",
    "    class_weight=None)"
   ]
  },
  {
   "cell_type": "code",
   "execution_count": 304,
   "metadata": {
    "collapsed": false
   },
   "outputs": [
    {
     "data": {
      "text/plain": [
       "{'bootstrap': True,\n",
       " 'class_weight': None,\n",
       " 'criterion': 'gini',\n",
       " 'max_depth': None,\n",
       " 'max_features': 'auto',\n",
       " 'max_leaf_nodes': None,\n",
       " 'min_impurity_split': 1e-07,\n",
       " 'min_samples_leaf': 1,\n",
       " 'min_samples_split': 2,\n",
       " 'min_weight_fraction_leaf': 0.0,\n",
       " 'n_estimators': 10,\n",
       " 'n_jobs': 1,\n",
       " 'oob_score': False,\n",
       " 'random_state': None,\n",
       " 'verbose': 0,\n",
       " 'warm_start': False}"
      ]
     },
     "execution_count": 304,
     "metadata": {},
     "output_type": "execute_result"
    }
   ],
   "source": [
    "rfc_classifier.get_params()"
   ]
  },
  {
   "cell_type": "code",
   "execution_count": 308,
   "metadata": {
    "collapsed": false
   },
   "outputs": [
    {
     "data": {
      "text/plain": [
       "0.44666666666666666"
      ]
     },
     "execution_count": 308,
     "metadata": {},
     "output_type": "execute_result"
    }
   ],
   "source": [
    "rfc2.fit(X_train, Y_train)\n",
    "result = rfc2.score(X_test, Y_test)\n",
    "result"
   ]
  },
  {
   "cell_type": "code",
   "execution_count": 224,
   "metadata": {
    "collapsed": false
   },
   "outputs": [
    {
     "name": "stdout",
     "output_type": "stream",
     "text": [
      "[0 0 0 0 0 0 0 0 0 1 0 0 1 0 1 0 0 0 0 0 0 1 1 0 0 0 0 0 0 1 0 1 0 1 0 1 0\n",
      " 0 0 0 0 1 0 1 0 0 1 0 0 0 1 0 0 0 0 0 1 0 0 1 1 0 1 1 0 0 1 0 0 0 0 1 1 0\n",
      " 1 0 0 0 0 0 0 1 0 0 0 1 1 1 0 0 1 1 1 1 0 0 0 0 1 1 0 0 0 0 1 0 0 1 0 0 1\n",
      " 1 0 1 0 1 1 1 1 1 0 1 1 1 0 0 0 0 0 0 0 1 0 0 1 1 0 0 0 0 0 1 1 0 0 0 0 0\n",
      " 0 0 1 1 1 0 0 0 0 0 0 0 0 1 0 0 0 0 0 1 0 0 1 1 1 1 1 1 0 1 0 0 0 0 0 0 0\n",
      " 1 1 1 1 1 1 0 0 0 1 1 1 1 1 1 1 0 1 0 1 1 0 1 0 0 0 0 0 1 1 0 0 1 0 1 0 0\n",
      " 1 0 0 0 1 0 1 0 1 0 1 0 0 0 0 1 0 0 0 0 1 1 1 0 1 1 0 1 1 1 1 0 1 1 0 1 0\n",
      " 1 1 1 0 0 0 1 0 0 0 1 0 0 0 1 0 1 1 0 1 1 0 1 0 1 0 1 0 0 1 0 0 1 0 1 1 0\n",
      " 0 0 1 1 0 0 0 1 1 0 0 0 1 1 0 0 0 0 0 1 0 1 0 0 0 0 1 1 1 1 1 0 0 0 0 0 0\n",
      " 0 0 0 0 1 1 1 0 0 1 1 0 0 0 0 1 0 0 1 1 0 0 0 1 1 0 1 0 0 0 0 0 0 0 0 0 0\n",
      " 0 1 0 1 0 1 0 1 1 1 0 1 1 1 0 1 0 0 0 0 0 1 0 0 0 1 1 0 0 1 0 1 0 1 1 0 1\n",
      " 0 0 0 0 0 0 0 1 1 0 0 1 1 0 0 1 1 1 0 0 1 0 0 0 0 1 0 0 0 1 0 0 0 0 0 1 1\n",
      " 0 0 0 1 0 0 1 0 0 1 0 0 1 0 0 1 0 0 1 0 1 0 0 0 0 0 0 0 0 0 0 0 1 0 0 0 1\n",
      " 0 0 1 1 0 0 1 0 1 0 0 1 0 1 0 0 0 0 1 1 1 1 0 0 1 1 1 0 0 0 1 0 1 0 0 0 0\n",
      " 0 1 0 1 0 1 0 0 0 1 0 1 0 0 0 0 1 0 1 0 1 1 1 0 0 1 0 0 1 1 0 0 1 0 0 0 0\n",
      " 1 0 0 0 1 0 0 0 0 1 0 0 0 1 0 1 0 1 1 0 0 0 0 0 1 0 1 0 0 0 1 1 0 0 0 1 0\n",
      " 1 1 1 0 0 1 1 1]\n"
     ]
    }
   ],
   "source": [
    "print(rfc_classifier.predict(X_test))"
   ]
  },
  {
   "cell_type": "code",
   "execution_count": 230,
   "metadata": {
    "collapsed": false
   },
   "outputs": [
    {
     "data": {
      "text/plain": [
       "0.60333333333333339"
      ]
     },
     "execution_count": 230,
     "metadata": {},
     "output_type": "execute_result"
    }
   ],
   "source": [
    "rfc_classifier.score(X_test,Y_test)"
   ]
  },
  {
   "cell_type": "code",
   "execution_count": 28,
   "metadata": {
    "collapsed": false
   },
   "outputs": [],
   "source": [
    "# save the model to disk\n",
    "filename = 'mindreadingmodel.sav'\n",
    "pickle.dump(model, open(filename, 'wb'))"
   ]
  },
  {
   "cell_type": "code",
   "execution_count": null,
   "metadata": {
    "collapsed": true
   },
   "outputs": [],
   "source": []
  }
 ],
 "metadata": {
  "kernelspec": {
   "display_name": "Python [conda root]",
   "language": "python",
   "name": "conda-root-py"
  },
  "language_info": {
   "codemirror_mode": {
    "name": "ipython",
    "version": 3
   },
   "file_extension": ".py",
   "mimetype": "text/x-python",
   "name": "python",
   "nbconvert_exporter": "python",
   "pygments_lexer": "ipython3",
   "version": "3.5.2"
  }
 },
 "nbformat": 4,
 "nbformat_minor": 2
}
